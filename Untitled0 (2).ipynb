{
  "nbformat": 4,
  "nbformat_minor": 0,
  "metadata": {
    "colab": {
      "name": "Untitled0.ipynb",
      "version": "0.3.2",
      "provenance": [],
      "collapsed_sections": []
    },
    "kernelspec": {
      "name": "python3",
      "display_name": "Python 3"
    },
    "accelerator": "GPU"
  },
  "cells": [
    {
      "metadata": {
        "id": "X-NyCQfPYG9n",
        "colab_type": "code",
        "outputId": "ed61c4af-4174-4f24-a07d-39034779faa7",
        "colab": {
          "base_uri": "https://localhost:8080/",
          "height": 128
        }
      },
      "cell_type": "code",
      "source": [
        "# importing drive for extracting or storing data in drive\n",
        "from google.colab import drive\n",
        "drive.mount('/content/drive/')"
      ],
      "execution_count": 1,
      "outputs": [
        {
          "output_type": "stream",
          "text": [
            "Go to this URL in a browser: https://accounts.google.com/o/oauth2/auth?client_id=947318989803-6bn6qk8qdgf4n4g3pfee6491hc0brc4i.apps.googleusercontent.com&redirect_uri=urn%3Aietf%3Awg%3Aoauth%3A2.0%3Aoob&scope=email%20https%3A%2F%2Fwww.googleapis.com%2Fauth%2Fdocs.test%20https%3A%2F%2Fwww.googleapis.com%2Fauth%2Fdrive%20https%3A%2F%2Fwww.googleapis.com%2Fauth%2Fdrive.photos.readonly%20https%3A%2F%2Fwww.googleapis.com%2Fauth%2Fpeopleapi.readonly&response_type=code\n",
            "\n",
            "Enter your authorization code:\n",
            "··········\n",
            "Mounted at /content/drive/\n"
          ],
          "name": "stdout"
        }
      ]
    },
    {
      "metadata": {
        "id": "WiI1YWDnYZfx",
        "colab_type": "code",
        "colab": {}
      },
      "cell_type": "code",
      "source": [
        "# Importing required libraries\n",
        "import os\n",
        "import numpy as np\n",
        "import sys\n",
        "from PIL import Image\n",
        "import tarfile\n",
        "import glob\n",
        "import re"
      ],
      "execution_count": 0,
      "outputs": []
    },
    {
      "metadata": {
        "id": "J0LjZap9ZIsP",
        "colab_type": "code",
        "colab": {}
      },
      "cell_type": "code",
      "source": [
        "#extrscting all the files for tar.gz format into working directory\n",
        "tar = tarfile.open(\"/content/drive/My Drive/Chest CT/sample_dataset_for_testing.tar.gz\")\n",
        "tar.extractall()\n",
        "tar.close()"
      ],
      "execution_count": 0,
      "outputs": []
    },
    {
      "metadata": {
        "id": "sN6IjZVYZZU5",
        "colab_type": "code",
        "outputId": "46b0cd31-7273-433c-c3a3-b9a3de190da2",
        "colab": {
          "base_uri": "https://localhost:8080/",
          "height": 35
        }
      },
      "cell_type": "code",
      "source": [
        "# checking for data extrated from tar.gz file\n",
        "os.listdir()"
      ],
      "execution_count": 4,
      "outputs": [
        {
          "output_type": "execute_result",
          "data": {
            "text/plain": [
              "['.config', 'drive', 'sample_dataset_for_testing', 'sample_data']"
            ]
          },
          "metadata": {
            "tags": []
          },
          "execution_count": 4
        }
      ]
    },
    {
      "metadata": {
        "id": "NAABVlIeK-7X",
        "colab_type": "code",
        "colab": {}
      },
      "cell_type": "code",
      "source": [
        "#getting all the extracted file of input images paths using glob  \n",
        "add1 = glob.glob('/content/sample_dataset_for_testing/fullsampledata/*/*/*[0-9].tiff')\n",
        "x1 = len(add1)\n",
        "#add1.sort()"
      ],
      "execution_count": 0,
      "outputs": []
    },
    {
      "metadata": {
        "id": "FcilVTxwOnQx",
        "colab_type": "code",
        "colab": {}
      },
      "cell_type": "code",
      "source": [
        "#len(add2)"
      ],
      "execution_count": 0,
      "outputs": []
    },
    {
      "metadata": {
        "id": "CurG7XmqGaVk",
        "colab_type": "code",
        "colab": {}
      },
      "cell_type": "code",
      "source": [
        "#os.path.split(add2[0])[1]"
      ],
      "execution_count": 0,
      "outputs": []
    },
    {
      "metadata": {
        "id": "1u0sz8ga6x9u",
        "colab_type": "code",
        "colab": {}
      },
      "cell_type": "code",
      "source": [
        "##getting all the extracted file of masks images paths using glob\n",
        "add2 = glob.glob('/content/sample_dataset_for_testing/fullsampledata/*/*/[0-9]*_mask.tiff')\n",
        "x2 = len(add2)\n",
        "#add2.sort()"
      ],
      "execution_count": 0,
      "outputs": []
    },
    {
      "metadata": {
        "id": "t5gCUqFPYjFS",
        "colab_type": "code",
        "colab": {}
      },
      "cell_type": "code",
      "source": [
        ""
      ],
      "execution_count": 0,
      "outputs": []
    },
    {
      "metadata": {
        "id": "eXdnEL7LACcN",
        "colab_type": "code",
        "colab": {}
      },
      "cell_type": "code",
      "source": [
        "\"\"\"\n",
        "The normal navie approach for trainig the model byg loadind data into numpy arrays\n",
        "x_data = np.ndarray(shape=(5,512,512))\n",
        "y_data = np.ndarray(shape=(5,512,512))\n",
        "\"\"\""
      ],
      "execution_count": 0,
      "outputs": []
    },
    {
      "metadata": {
        "id": "OMWMTREf7Dmz",
        "colab_type": "code",
        "colab": {}
      },
      "cell_type": "code",
      "source": [
        "#x_data[6] = y_data[0]"
      ],
      "execution_count": 0,
      "outputs": []
    },
    {
      "metadata": {
        "id": "sYBfhkiRPF3y",
        "colab_type": "code",
        "colab": {}
      },
      "cell_type": "code",
      "source": [
        ""
      ],
      "execution_count": 0,
      "outputs": []
    },
    {
      "metadata": {
        "id": "wt7p-hr_48nG",
        "colab_type": "code",
        "colab": {}
      },
      "cell_type": "code",
      "source": [
        "\n"
      ],
      "execution_count": 0,
      "outputs": []
    },
    {
      "metadata": {
        "id": "n6iVJ7w5a-s6",
        "colab_type": "code",
        "colab": {}
      },
      "cell_type": "code",
      "source": [
        "\"\"\"\n",
        "Code for Navie approach\n",
        "address1 = glob.glob(\"/content/sample_dataset_for_testing/fullsampledata/\"'subset'+str(0)+'mask'\"/*/[0-9]*.tiff\")\n",
        "address1.sort()\n",
        "address2 = glob.glob(\"/content/sample_dataset_for_testing/fullsampledata/\"'subset'+str(0)+'mask'\"/*/[0-9]*_mask.tiff\")\n",
        "\"\"\""
      ],
      "execution_count": 0,
      "outputs": []
    },
    {
      "metadata": {
        "id": "DKHjQa-6bGhW",
        "colab_type": "code",
        "outputId": "a9a14972-c43e-449d-83fe-ad5dcf643d7e",
        "colab": {
          "base_uri": "https://localhost:8080/",
          "height": 55
        }
      },
      "cell_type": "code",
      "source": [
        "\"\"\"\n",
        "Code for Navie approach without fit generator\n",
        "k = 0\n",
        "for i in range(10):\n",
        "      address1 = glob.glob(\"/content/sample_dataset_for_testing/fullsampledata/\"'subset'+str(i)+'mask'\"/*/[0-9]*.tiff\")\n",
        "      \n",
        "      address2 = glob.glob(\"/content/sample_dataset_for_testing/fullsampledata/\"'subset'+str(i)+'mask'\"/*/[0-9]*_mask.tiff\")\n",
        "      if len(address2) > 0:\n",
        "          h1 = []\n",
        "          for l in range(len(address2)):\n",
        "              k1 = os.path.split(address2[l])[1]\n",
        "              h1.append(re.findall('[0-9]',k1))\n",
        "          for j in range(len(address1)):\n",
        "              a = Image.open(address1[j])\n",
        "              a1 = np.array(a)\n",
        "              np.append(x_data, a1, axis = 0)\n",
        "              l1 = os.path.split(address1[j])[1]\n",
        "              l2 = re.findall('[0-9]',l1)\n",
        "              if l2 in h1:\n",
        "                  b = Image.open(address2[h1.index(l2)])\n",
        "                  b1 = np.array(b)\n",
        "                  np.append(y_data, b1 , axis = 0)\n",
        "                #m = m+1\n",
        "              else:\n",
        "                  np.append(y_data, np.zeros(shape=(512,512)), axis = 0)\n",
        "              k = k+1\n",
        "                  \n",
        "                  \n",
        "                  \n",
        "      else:\n",
        "            for j in range(len(address1)):\n",
        "                   np.append(x_data, np.array(Image.open(address1[j])), axis = 0)\n",
        "                   np.append(y_data, np.zeros(shape=(512,512)), axis = 0)\n",
        "                   k = k+1\n",
        "      \n",
        "        \n",
        "           \n",
        "            \n",
        "          \n",
        "      print(k)\n",
        "     #a = Image.open(add[i])\n",
        "     \"\"\""
      ],
      "execution_count": 10,
      "outputs": [
        {
          "output_type": "execute_result",
          "data": {
            "text/plain": [
              "'\\nCode for Navie approach without fit generator\\nk = 0\\nfor i in range(10):\\n      address1 = glob.glob(\"/content/sample_dataset_for_testing/fullsampledata/\"\\'subset\\'+str(i)+\\'mask\\'\"/*/[0-9]*.tiff\")\\n      \\n      address2 = glob.glob(\"/content/sample_dataset_for_testing/fullsampledata/\"\\'subset\\'+str(i)+\\'mask\\'\"/*/[0-9]*_mask.tiff\")\\n      if len(address2) > 0:\\n          h1 = []\\n          for l in range(len(address2)):\\n              k1 = os.path.split(address2[l])[1]\\n              h1.append(re.findall(\\'[0-9]\\',k1))\\n          for j in range(len(address1)):\\n              a = Image.open(address1[j])\\n              a1 = np.array(a)\\n              np.append(x_data, a1, axis = 0)\\n              l1 = os.path.split(address1[j])[1]\\n              l2 = re.findall(\\'[0-9]\\',l1)\\n              if l2 in h1:\\n                  b = Image.open(address2[h1.index(l2)])\\n                  b1 = np.array(b)\\n                  np.append(y_data, b1 , axis = 0)\\n                #m = m+1\\n              else:\\n                  np.append(y_data, np.zeros(shape=(512,512)), axis = 0)\\n              k = k+1\\n                  \\n                  \\n                  \\n      else:\\n            for j in range(len(address1)):\\n                   np.append(x_data, np.array(Image.open(address1[j])), axis = 0)\\n                   np.append(y_data, np.zeros(shape=(512,512)), axis = 0)\\n                   k = k+1\\n      \\n        \\n           \\n            \\n          \\n      print(k)\\n     #a = Image.open(add[i])\\n     '"
            ]
          },
          "metadata": {
            "tags": []
          },
          "execution_count": 10
        }
      ]
    },
    {
      "metadata": {
        "id": "M0uOVh4d0diZ",
        "colab_type": "code",
        "colab": {}
      },
      "cell_type": "code",
      "source": [
        "# extracting the input images function with respect to the paths taht are extracted above using globe\n",
        "def input_x(path):\n",
        "    \n",
        "    k1 = os.path.split(path)[1]\n",
        "    #print(k1)\n",
        "    a = np.zeros((512,512,1))\n",
        "    if k1 == re.findall('[0-9]*.tiff',k1)[0]:\n",
        "        a[:,:,0] = np.array(Image.open(path))\n",
        "        \n",
        "        M = np.float(np.max(a))\n",
        "        if M != 0:\n",
        "           a *= 1./(3071)\n",
        "         \n",
        "    \n",
        "    \n",
        "    return a \n",
        "  \n",
        "  \n",
        "  "
      ],
      "execution_count": 0,
      "outputs": []
    },
    {
      "metadata": {
        "id": "OOgvKI9kI_gr",
        "colab_type": "code",
        "colab": {}
      },
      "cell_type": "code",
      "source": [
        "a = input_x(add1[0])\n"
      ],
      "execution_count": 0,
      "outputs": []
    },
    {
      "metadata": {
        "id": "5p4dJiZIlsdJ",
        "colab_type": "code",
        "colab": {}
      },
      "cell_type": "code",
      "source": [
        ""
      ],
      "execution_count": 0,
      "outputs": []
    },
    {
      "metadata": {
        "id": "9cQlWG5g08Mj",
        "colab_type": "code",
        "colab": {}
      },
      "cell_type": "code",
      "source": [
        "# similarly extracting output\n",
        "def output_y(path):\n",
        "  b = np.zeros((512,512,1))\n",
        "  k1 = os.path.split(path)[1]\n",
        "  k2 = os.path.split(path)[0]\n",
        "  path1 = k2 +'/'+ k1.split('.')[0]+'_mask.tiff'\n",
        "  if path1 in add2:\n",
        "      b[:,:,0] = np.array(Image.open(path))\n",
        "      M = np.float(np.max(b))\n",
        "      #if M != 0:\n",
        "      b *= 1./M\n",
        "  else:\n",
        "         #b = None\n",
        "          b \n",
        "    \n",
        "  \n",
        "  return b\n",
        "  \n",
        "  #k1 = os.path.split(path)[1]\n",
        "  \n",
        " "
      ],
      "execution_count": 0,
      "outputs": []
    },
    {
      "metadata": {
        "id": "Nq1nI5n0tQ-d",
        "colab_type": "code",
        "colab": {}
      },
      "cell_type": "code",
      "source": [
        ""
      ],
      "execution_count": 0,
      "outputs": []
    },
    {
      "metadata": {
        "id": "Ch6V4Hs-AbiM",
        "colab_type": "code",
        "colab": {}
      },
      "cell_type": "code",
      "source": [
        "\"\"\"\n",
        "Different way of writing image generator\n",
        "\n",
        "def image_generator(batch_size, datapath):\n",
        "  #i = 0\n",
        "  while True:\n",
        "    batch_input = []\n",
        "    batch_output = []\n",
        "    batch_paths = np.random.choice(a = datapath, size = batch_size)\n",
        "    #batch_input = np.zeros((batch_size, 512, 512, 1), dtype = float)\n",
        "    #batch_output = np.zeros((batch_size, 512, 512, 1), dtype = float)\n",
        "    \n",
        "    for i in batch_paths:\n",
        "          #bs = batch_size\n",
        "          x = input_x(X_train[i]) \n",
        "          y = output_y(X_train[i])\n",
        "          batch_input += [x]\n",
        "          batch_output += [y]\n",
        "          #bs -= 1\n",
        "          \n",
        "    batch_x = np.array( batch_input )\n",
        "    batch_y = np.array( batch_output )\n",
        " \n",
        "    yield ( batch_x, batch_y )\n",
        "  \"\"\""
      ],
      "execution_count": 0,
      "outputs": []
    },
    {
      "metadata": {
        "id": "akGGBsS2aCmj",
        "colab_type": "code",
        "colab": {}
      },
      "cell_type": "code",
      "source": [
        ""
      ],
      "execution_count": 0,
      "outputs": []
    },
    {
      "metadata": {
        "id": "7_qmkZUG4M37",
        "colab_type": "code",
        "outputId": "ef31ecfd-2f11-4f1c-99b9-9c17018daabb",
        "colab": {
          "base_uri": "https://localhost:8080/",
          "height": 35
        }
      },
      "cell_type": "code",
      "source": [
        ""
      ],
      "execution_count": 0,
      "outputs": [
        {
          "output_type": "execute_result",
          "data": {
            "text/plain": [
              "<generator object image_generator at 0x7f7bb295e7d8>"
            ]
          },
          "metadata": {
            "tags": []
          },
          "execution_count": 12
        }
      ]
    },
    {
      "metadata": {
        "id": "rbvp2gBHXS3t",
        "colab_type": "code",
        "colab": {}
      },
      "cell_type": "code",
      "source": [
        "\"\"\"\n",
        "Another way of writing Image generator\n",
        "\n",
        "def generate_arrays_from_file(path ,batch_size):\n",
        "       \n",
        "        while 1:\n",
        "            #f = open(path)\n",
        "            batch_paths = np.random.choice(a = path, size = batch_size)\n",
        "            for line in batch_path:\n",
        "                x1 = np.zeros((batch_size, 512, 512))\n",
        "                y = np.zeros(batch_size, 512,512)\n",
        "                # create numpy arrays of input data\n",
        "                # and labels, from each line in the file\n",
        "                x1 = input_x(line)[0]\n",
        "                y = input_x(line)[1]\n",
        "                yield ( x1, y)\n",
        "            #f.close()\n",
        "\"\"\""
      ],
      "execution_count": 0,
      "outputs": []
    },
    {
      "metadata": {
        "id": "IAkv6uTns_fK",
        "colab_type": "code",
        "colab": {}
      },
      "cell_type": "code",
      "source": [
        "#image_generator(3, add1)"
      ],
      "execution_count": 0,
      "outputs": []
    },
    {
      "metadata": {
        "id": "enD5yMgxbD-w",
        "colab_type": "code",
        "outputId": "81fe45fe-95d3-4f53-d180-225fecb8a4b6",
        "colab": {
          "base_uri": "https://localhost:8080/",
          "height": 35
        }
      },
      "cell_type": "code",
      "source": [
        "#Importing libs\n",
        "from keras.models import *\n",
        "from keras.layers import *\n",
        "from keras.optimizers import *\n",
        "from keras.callbacks import ModelCheckpoint, LearningRateScheduler\n",
        "from keras import backend as keras\n",
        "from keras.layers.advanced_activations import LeakyReLU"
      ],
      "execution_count": 13,
      "outputs": [
        {
          "output_type": "stream",
          "text": [
            "Using TensorFlow backend.\n"
          ],
          "name": "stderr"
        }
      ]
    },
    {
      "metadata": {
        "id": "5JYjjMgDJqBu",
        "colab_type": "code",
        "colab": {}
      },
      "cell_type": "code",
      "source": [
        "# Unet model\n",
        "def unet(img_rows=512, img_cols=512):\n",
        "    inputs = Input((img_rows, img_cols, 1))\n",
        "    conv1 = Conv2D(32, (3, 3), activation='relu', border_mode='same', kernel_initializer='he_normal')(inputs)\n",
        "    conv1 = Dropout(0.3)(conv1)\n",
        "    conv1 = Conv2D(32, (3, 3), activation='relu', border_mode='same', kernel_initializer='he_normal')(conv1)\n",
        "    conv1 = Dropout(0.3)(conv1)\n",
        "    pool1 = MaxPooling2D(pool_size=(2, 2))(conv1)\n",
        "\n",
        "    conv2 = Conv2D(64, (3, 3), activation='relu', border_mode='same', kernel_initializer='he_normal')(pool1)\n",
        "    conv2 = Dropout(0.3)(conv2)\n",
        "    conv2 = Conv2D(64, (3, 3), activation='relu', border_mode='same', kernel_initializer='he_normal')(conv2)\n",
        "    pool2 = MaxPooling2D(pool_size=(2, 2))(conv2)\n",
        "\n",
        "    conv3 = Conv2D(64, (3, 3), activation='relu', border_mode='same', kernel_initializer='he_normal')(pool2)\n",
        "    conv3 = Dropout(0.3)(conv3)\n",
        "    conv3 = Conv2D(64, (3, 3), activation='relu', border_mode='same', kernel_initializer='he_normal')(conv3)\n",
        "    pool3 = MaxPooling2D(pool_size=(2, 2))(conv3)\n",
        "\n",
        "    conv4 = Conv2D(64, (3, 3), activation='relu', border_mode='same', kernel_initializer='he_normal')(pool3)\n",
        "    conv4 = Dropout(0.3)(conv4)\n",
        "    conv4 = Conv2D(64, (3, 3), activation='relu', border_mode='same', kernel_initializer='he_normal')(conv4)\n",
        "    pool4 = MaxPooling2D(pool_size=(2, 2))(conv4)\n",
        "\n",
        "    conv5 = Conv2D(64, (3, 3), activation='relu', border_mode='same', kernel_initializer='he_normal')(pool4)\n",
        "    conv5 = Dropout(0.3)(conv5)\n",
        "    conv5 = Convolution2D(64, (3, 3), activation='relu', border_mode='same', kernel_initializer='he_normal')(conv5)\n",
        "    \n",
        "    up6 =   concatenate([UpSampling2D(size=(2, 2))(conv5), conv4],axis=3)\n",
        "    conv6 = Conv2D(64, (3, 3), activation='relu', border_mode='same', kernel_initializer='he_normal')(up6)\n",
        "    conv6 = Dropout(0.3)(conv6)\n",
        "    conv6 = Conv2D(64, (3, 3), activation='relu', border_mode='same', kernel_initializer='he_normal')(conv6)\n",
        "\n",
        "    up7 =   concatenate([UpSampling2D(size=(2, 2))(conv6), conv3], axis=3)\n",
        "    conv7 =Conv2D(64, (3, 3), activation='relu', border_mode='same', kernel_initializer='he_normal')(up7)\n",
        "    conv7 = Dropout(0.3)(conv7)\n",
        "    conv7 = Conv2D(64, (3, 3), activation='relu', border_mode='same', kernel_initializer='he_normal')(conv7)\n",
        "\n",
        "    up8 =   concatenate([UpSampling2D(size=(2, 2))(conv7), conv2], axis=3)\n",
        "    conv8 =Conv2D(64, (3, 3), activation='relu', border_mode='same', kernel_initializer='he_normal')(up8)\n",
        "    conv8 = Dropout(0.3)(conv8)\n",
        "    conv8 = Conv2D(64, (3, 3), activation='relu', border_mode='same', kernel_initializer='he_normal')(conv8)\n",
        "    \n",
        "    up9 =   concatenate([UpSampling2D(size=(2, 2))(conv8), conv1], axis=3)\n",
        "    conv9 = Conv2D(32, (3, 3), activation='relu', border_mode='same', kernel_initializer='he_normal')(up9)\n",
        "    conv9 = Dropout(0.3)(conv9)\n",
        "    conv9 = Conv2D(32, (3, 3), activation='relu', border_mode='same', kernel_initializer='he_normal')(conv9)\n",
        "    conv9 = Dropout(0.3)(conv9)\n",
        "    \n",
        "    conv10 = Conv2D(1, (1, 1), activation='sigmoid', kernel_initializer='VarianceScaling')(conv9)\n",
        "    #conv10 = Flatten()(conv10)\n",
        "   \n",
        "    model = Model(input=inputs, outputs=conv10)\n",
        "    return model"
      ],
      "execution_count": 0,
      "outputs": []
    },
    {
      "metadata": {
        "id": "F-ZZD0pBRojN",
        "colab_type": "code",
        "colab": {}
      },
      "cell_type": "code",
      "source": [
        "#import tensorflow as tf\n",
        "import keras\n",
        "from keras import backend as K"
      ],
      "execution_count": 0,
      "outputs": []
    },
    {
      "metadata": {
        "id": "q4Lowka6RvnE",
        "colab_type": "code",
        "outputId": "0ef0b9ef-bd3f-46f0-ee21-bd67df2b7520",
        "colab": {
          "base_uri": "https://localhost:8080/",
          "height": 492
        }
      },
      "cell_type": "code",
      "source": [
        "K.clear_session()  # clear default graph\n",
        "model = unet()\n",
        "#model.summary()    # summary of the model"
      ],
      "execution_count": 16,
      "outputs": [
        {
          "output_type": "stream",
          "text": [
            "/usr/local/lib/python3.6/dist-packages/ipykernel_launcher.py:3: UserWarning: Update your `Conv2D` call to the Keras 2 API: `Conv2D(32, (3, 3), activation=\"relu\", kernel_initializer=\"he_normal\", padding=\"same\")`\n",
            "  This is separate from the ipykernel package so we can avoid doing imports until\n",
            "/usr/local/lib/python3.6/dist-packages/ipykernel_launcher.py:5: UserWarning: Update your `Conv2D` call to the Keras 2 API: `Conv2D(32, (3, 3), activation=\"relu\", kernel_initializer=\"he_normal\", padding=\"same\")`\n",
            "  \"\"\"\n",
            "/usr/local/lib/python3.6/dist-packages/ipykernel_launcher.py:9: UserWarning: Update your `Conv2D` call to the Keras 2 API: `Conv2D(64, (3, 3), activation=\"relu\", kernel_initializer=\"he_normal\", padding=\"same\")`\n",
            "  if __name__ == '__main__':\n",
            "/usr/local/lib/python3.6/dist-packages/ipykernel_launcher.py:11: UserWarning: Update your `Conv2D` call to the Keras 2 API: `Conv2D(64, (3, 3), activation=\"relu\", kernel_initializer=\"he_normal\", padding=\"same\")`\n",
            "  # This is added back by InteractiveShellApp.init_path()\n",
            "/usr/local/lib/python3.6/dist-packages/ipykernel_launcher.py:14: UserWarning: Update your `Conv2D` call to the Keras 2 API: `Conv2D(64, (3, 3), activation=\"relu\", kernel_initializer=\"he_normal\", padding=\"same\")`\n",
            "  \n",
            "/usr/local/lib/python3.6/dist-packages/ipykernel_launcher.py:16: UserWarning: Update your `Conv2D` call to the Keras 2 API: `Conv2D(64, (3, 3), activation=\"relu\", kernel_initializer=\"he_normal\", padding=\"same\")`\n",
            "  app.launch_new_instance()\n",
            "/usr/local/lib/python3.6/dist-packages/ipykernel_launcher.py:19: UserWarning: Update your `Conv2D` call to the Keras 2 API: `Conv2D(64, (3, 3), activation=\"relu\", kernel_initializer=\"he_normal\", padding=\"same\")`\n",
            "/usr/local/lib/python3.6/dist-packages/ipykernel_launcher.py:21: UserWarning: Update your `Conv2D` call to the Keras 2 API: `Conv2D(64, (3, 3), activation=\"relu\", kernel_initializer=\"he_normal\", padding=\"same\")`\n",
            "/usr/local/lib/python3.6/dist-packages/ipykernel_launcher.py:24: UserWarning: Update your `Conv2D` call to the Keras 2 API: `Conv2D(64, (3, 3), activation=\"relu\", kernel_initializer=\"he_normal\", padding=\"same\")`\n",
            "/usr/local/lib/python3.6/dist-packages/ipykernel_launcher.py:26: UserWarning: Update your `Conv2D` call to the Keras 2 API: `Conv2D(64, (3, 3), activation=\"relu\", kernel_initializer=\"he_normal\", padding=\"same\")`\n",
            "/usr/local/lib/python3.6/dist-packages/ipykernel_launcher.py:29: UserWarning: Update your `Conv2D` call to the Keras 2 API: `Conv2D(64, (3, 3), activation=\"relu\", kernel_initializer=\"he_normal\", padding=\"same\")`\n",
            "/usr/local/lib/python3.6/dist-packages/ipykernel_launcher.py:31: UserWarning: Update your `Conv2D` call to the Keras 2 API: `Conv2D(64, (3, 3), activation=\"relu\", kernel_initializer=\"he_normal\", padding=\"same\")`\n",
            "/usr/local/lib/python3.6/dist-packages/ipykernel_launcher.py:34: UserWarning: Update your `Conv2D` call to the Keras 2 API: `Conv2D(64, (3, 3), activation=\"relu\", kernel_initializer=\"he_normal\", padding=\"same\")`\n",
            "/usr/local/lib/python3.6/dist-packages/ipykernel_launcher.py:36: UserWarning: Update your `Conv2D` call to the Keras 2 API: `Conv2D(64, (3, 3), activation=\"relu\", kernel_initializer=\"he_normal\", padding=\"same\")`\n",
            "/usr/local/lib/python3.6/dist-packages/ipykernel_launcher.py:39: UserWarning: Update your `Conv2D` call to the Keras 2 API: `Conv2D(64, (3, 3), activation=\"relu\", kernel_initializer=\"he_normal\", padding=\"same\")`\n",
            "/usr/local/lib/python3.6/dist-packages/ipykernel_launcher.py:41: UserWarning: Update your `Conv2D` call to the Keras 2 API: `Conv2D(64, (3, 3), activation=\"relu\", kernel_initializer=\"he_normal\", padding=\"same\")`\n",
            "/usr/local/lib/python3.6/dist-packages/ipykernel_launcher.py:44: UserWarning: Update your `Conv2D` call to the Keras 2 API: `Conv2D(32, (3, 3), activation=\"relu\", kernel_initializer=\"he_normal\", padding=\"same\")`\n",
            "/usr/local/lib/python3.6/dist-packages/ipykernel_launcher.py:46: UserWarning: Update your `Conv2D` call to the Keras 2 API: `Conv2D(32, (3, 3), activation=\"relu\", kernel_initializer=\"he_normal\", padding=\"same\")`\n",
            "/usr/local/lib/python3.6/dist-packages/ipykernel_launcher.py:52: UserWarning: Update your `Model` call to the Keras 2 API: `Model(outputs=Tensor(\"co..., inputs=Tensor(\"in...)`\n"
          ],
          "name": "stderr"
        }
      ]
    },
    {
      "metadata": {
        "id": "5NyLGS-oi-Qr",
        "colab_type": "code",
        "colab": {}
      },
      "cell_type": "code",
      "source": [
        "# code for dice co-efficient\n",
        "\n",
        "def soft_dice_loss(y_true, y_pred, epsilon=1e-6):\n",
        "    axes = tuple(range(0, len(y_pred.shape))) \n",
        "    numerator = 2. * np.sum(y_pred * y_true)\n",
        "    denominator = np.sum(np.square(y_pred) + np.square(y_true))\n",
        "    \n",
        "    return 1 - np.mean(numerator / (denominator + epsilon))"
      ],
      "execution_count": 0,
      "outputs": []
    },
    {
      "metadata": {
        "id": "ZGbt4N7skAtq",
        "colab_type": "code",
        "colab": {}
      },
      "cell_type": "code",
      "source": [
        "#Dice co-efficient and also loss function\n",
        "def dice_coef(y_true, y_pred, smooth=1):\n",
        "    y_true_f = K.flatten(y_true)\n",
        "    y_pred_f = K.flatten(y_pred)\n",
        "    intersection = K.sum(y_true_f * y_pred_f)\n",
        "    return (2. * intersection + smooth) / (K.sum(y_true_f) + K.sum(y_pred_f) + smooth)\n",
        "\n",
        "def dice_coef_loss(y_true, y_pred):\n",
        "    return 1-dice_coef(y_true, y_pred)"
      ],
      "execution_count": 0,
      "outputs": []
    },
    {
      "metadata": {
        "id": "kJLr626nkGTx",
        "colab_type": "code",
        "colab": {}
      },
      "cell_type": "code",
      "source": [
        "#other loss functions for trainng and validating the model\n",
        "from keras.losses import mean_squared_error,binary_crossentropy\n",
        "from sklearn.metrics import log_loss\n",
        "\n",
        "\n",
        "import math\n",
        "def entropy_loss(y_true,y_pred):\n",
        "    \"pixel-wise binary correntropy\"\n",
        "    y_true_f = K.batch_flatten(y_true)\n",
        "    y_pred_f = K.batch_flatten(y_pred)\n",
        "    return binary_crossentropy(y_true_f, y_pred_f)\n",
        "def entropy_1(y_true,y_pred):\n",
        "    y_true_f = K.batch_flatten(y_true)\n",
        "    y_pred_f = K.batch_flatten(y_pred)\n",
        "    loss=K.sum(y_true_f*K.log(y_pred_f))\n",
        "    return K.max(y_pred_f,0)-y_pred_f * y_true_f + K.log(1+K.exp((-1)*K.abs(y_pred_f)))\n",
        "def entropy_log(y_true,y_pred):\n",
        "    y_true_f = K.batch_flatten(y_true)\n",
        "    y_pred_f = K.batch_flatten(y_pred)\n",
        "    return log_loss(y_true, y_pred, eps=1e-15)\n",
        "    \n",
        " #tf.nn.sigmoid_cross_entropy_with_logits(labels = y_true_f, logits = y_pred_f) \n",
        "#K.max(y_pred_f,0)-y_pred_f * y_true_f + K.log(1+K.exp((-1)*K.abs(y_pred_f)))"
      ],
      "execution_count": 0,
      "outputs": []
    },
    {
      "metadata": {
        "id": "G5AVRfu6kNl8",
        "colab_type": "code",
        "colab": {}
      },
      "cell_type": "code",
      "source": [
        "def mean_IOU_gpu(X, Y):\n",
        "    \"\"\"Computes mean Intersection-over-Union (IOU) for two arrays of binary images.\n",
        "    Assuming X and Y are of shape (n_images, w, h).\"\"\"\n",
        "    \n",
        "    #X_fl = K.clip(K.batch_flatten(X), K.epsilon(), 1.)\n",
        "    #Y_fl = K.clip(K.batch_flatten(Y), K.epsilon(), 1.)\n",
        "    X_fl = K.clip(K.batch_flatten(X), 0., 1.)\n",
        "    Y_fl = K.clip(K.batch_flatten(Y), 0., 1.) \n",
        "    X_fl = K.cast(K.greater(X_fl, 0.5), 'float32')\n",
        "    Y_fl = K.cast(K.greater(Y_fl, 0.5), 'float32')\n",
        "\n",
        "    intersection = K.sum(X_fl * Y_fl, axis=1)\n",
        "    union = K.sum(K.maximum(X_fl, Y_fl), axis=1)\n",
        "    # if union == 0, it follows that intersection == 0 => score should be 0.\n",
        "    union = K.switch(K.equal(union, 0), K.ones_like(union), union)\n",
        "    return K.mean(intersection / K.cast(union, 'float32'))"
      ],
      "execution_count": 0,
      "outputs": []
    },
    {
      "metadata": {
        "id": "Qcsk1C0jm1GU",
        "colab_type": "code",
        "colab": {}
      },
      "cell_type": "code",
      "source": [
        "#spliting the data into train and test using the paths that are extracted from glob above\n",
        "from sklearn.model_selection import train_test_split\n",
        "X_train, X_test = train_test_split(add1, test_size=0.25, random_state=42)"
      ],
      "execution_count": 0,
      "outputs": []
    },
    {
      "metadata": {
        "id": "XRhFJ5a7sYrL",
        "colab_type": "code",
        "colab": {}
      },
      "cell_type": "code",
      "source": [
        ""
      ],
      "execution_count": 0,
      "outputs": []
    },
    {
      "metadata": {
        "id": "7GbSXStKnGns",
        "colab_type": "code",
        "colab": {}
      },
      "cell_type": "code",
      "source": [
        "#Image generator function that are used for efficient approach(fit generator)\n",
        "def image_generator1(batch_size, datapath):\n",
        "  #i = 0\n",
        "  while True:\n",
        "    #batch_input = []\n",
        "    #batch_output = []\n",
        "    batch_paths = np.random.choice(a = datapath, size = batch_size)\n",
        "    batch_input = np.zeros((batch_size, 512, 512, 1), dtype = float)\n",
        "    batch_output = np.zeros((batch_size, 512, 512, 1), dtype = float)\n",
        "    \n",
        "    for i in range(len(batch_paths)):\n",
        "          #bs = batch_size\n",
        "          x = input_x( batch_paths[i]) \n",
        "          y = output_y( batch_paths[i])\n",
        "          batch_input[i]= x\n",
        "          batch_output[i] = y\n",
        "          #bs -= 1\n",
        "          \n",
        "    #batch_x = np.array( batch_input )\n",
        "    #batch_y = np.array( batch_output )\n",
        " \n",
        "    yield ( batch_input, batch_output )"
      ],
      "execution_count": 0,
      "outputs": []
    },
    {
      "metadata": {
        "id": "xgTqREJKDGOS",
        "colab_type": "code",
        "colab": {}
      },
      "cell_type": "code",
      "source": [
        "# validating function\n",
        "def image_valid1(batch_size, datapath):\n",
        "  #i = 0\n",
        "  while True:\n",
        "    #batch_input = []\n",
        "    #batch_output = []\n",
        "    batch_paths = np.random.choice(a = datapath, size = batch_size)\n",
        "    batch_input = np.zeros((batch_size, 512, 512, 1), dtype = float)\n",
        "    batch_output = np.zeros((batch_size, 512, 512, 1), dtype = float)\n",
        "    \n",
        "    for i in range(len(batch_paths)):\n",
        "          #bs = batch_size\n",
        "          x = input_x( batch_paths[i]) \n",
        "          y = output_y( batch_paths[i])\n",
        "          batch_input[i]= x\n",
        "          batch_output[i] = y\n",
        "          #bs -= 1\n",
        "          \n",
        "    #batch_x = np.array( batch_input )\n",
        "    #batch_y = np.array( batch_output )\n",
        " \n",
        "    yield(batch_input, batch_output)"
      ],
      "execution_count": 0,
      "outputs": []
    },
    {
      "metadata": {
        "id": "qxMWXqqnkV9r",
        "colab_type": "code",
        "outputId": "474a00e3-6525-46a7-ca17-a31e0fab53db",
        "colab": {
          "base_uri": "https://localhost:8080/",
          "height": 819
        }
      },
      "cell_type": "code",
      "source": [
        "# Training the model\n",
        "init_LR = 5e-3\n",
        "BATCH_SIZE = 20\n",
        "EPOCHS = 10\n",
        "m = 20\n",
        "n = 2\n",
        "K.clear_session()  # clear default graph\n",
        "\n",
        "model = unet()\n",
        "model.compile(\n",
        "    loss= entropy_1,  # we train 46-way classification\n",
        "    optimizer=keras.optimizers.Adamax(lr=init_LR),# for SGD\n",
        "    metrics=[dice_coef, mean_IOU_gpu]# report accuracy during training\n",
        ")\n",
        "def lr_scheduler(epoch):\n",
        "    return init_LR * 0.9 ** epoch\n",
        "#train_generator = generate_arrays_from_file(X_train, 2)\n",
        "#model.fit()\n",
        "model.fit_generator(image_generator1(2, X_train), steps_per_epoch=6, \n",
        "                    epochs = EPOCHS,\n",
        "                    callbacks=[keras.callbacks.LearningRateScheduler(lr_scheduler)],\n",
        "                    validation_data=image_valid1(2, X_test),validation_steps = 5)\n",
        "# epochs=EPOCHS,validation_data=image_generator(BATCH_SIZE, X_test), validation_steps =n"
      ],
      "execution_count": 24,
      "outputs": [
        {
          "output_type": "stream",
          "text": [
            "/usr/local/lib/python3.6/dist-packages/ipykernel_launcher.py:3: UserWarning: Update your `Conv2D` call to the Keras 2 API: `Conv2D(32, (3, 3), activation=\"relu\", kernel_initializer=\"he_normal\", padding=\"same\")`\n",
            "  This is separate from the ipykernel package so we can avoid doing imports until\n",
            "/usr/local/lib/python3.6/dist-packages/ipykernel_launcher.py:5: UserWarning: Update your `Conv2D` call to the Keras 2 API: `Conv2D(32, (3, 3), activation=\"relu\", kernel_initializer=\"he_normal\", padding=\"same\")`\n",
            "  \"\"\"\n",
            "/usr/local/lib/python3.6/dist-packages/ipykernel_launcher.py:9: UserWarning: Update your `Conv2D` call to the Keras 2 API: `Conv2D(64, (3, 3), activation=\"relu\", kernel_initializer=\"he_normal\", padding=\"same\")`\n",
            "  if __name__ == '__main__':\n",
            "/usr/local/lib/python3.6/dist-packages/ipykernel_launcher.py:11: UserWarning: Update your `Conv2D` call to the Keras 2 API: `Conv2D(64, (3, 3), activation=\"relu\", kernel_initializer=\"he_normal\", padding=\"same\")`\n",
            "  # This is added back by InteractiveShellApp.init_path()\n",
            "/usr/local/lib/python3.6/dist-packages/ipykernel_launcher.py:14: UserWarning: Update your `Conv2D` call to the Keras 2 API: `Conv2D(64, (3, 3), activation=\"relu\", kernel_initializer=\"he_normal\", padding=\"same\")`\n",
            "  \n",
            "/usr/local/lib/python3.6/dist-packages/ipykernel_launcher.py:16: UserWarning: Update your `Conv2D` call to the Keras 2 API: `Conv2D(64, (3, 3), activation=\"relu\", kernel_initializer=\"he_normal\", padding=\"same\")`\n",
            "  app.launch_new_instance()\n",
            "/usr/local/lib/python3.6/dist-packages/ipykernel_launcher.py:19: UserWarning: Update your `Conv2D` call to the Keras 2 API: `Conv2D(64, (3, 3), activation=\"relu\", kernel_initializer=\"he_normal\", padding=\"same\")`\n",
            "/usr/local/lib/python3.6/dist-packages/ipykernel_launcher.py:21: UserWarning: Update your `Conv2D` call to the Keras 2 API: `Conv2D(64, (3, 3), activation=\"relu\", kernel_initializer=\"he_normal\", padding=\"same\")`\n",
            "/usr/local/lib/python3.6/dist-packages/ipykernel_launcher.py:24: UserWarning: Update your `Conv2D` call to the Keras 2 API: `Conv2D(64, (3, 3), activation=\"relu\", kernel_initializer=\"he_normal\", padding=\"same\")`\n",
            "/usr/local/lib/python3.6/dist-packages/ipykernel_launcher.py:26: UserWarning: Update your `Conv2D` call to the Keras 2 API: `Conv2D(64, (3, 3), activation=\"relu\", kernel_initializer=\"he_normal\", padding=\"same\")`\n",
            "/usr/local/lib/python3.6/dist-packages/ipykernel_launcher.py:29: UserWarning: Update your `Conv2D` call to the Keras 2 API: `Conv2D(64, (3, 3), activation=\"relu\", kernel_initializer=\"he_normal\", padding=\"same\")`\n",
            "/usr/local/lib/python3.6/dist-packages/ipykernel_launcher.py:31: UserWarning: Update your `Conv2D` call to the Keras 2 API: `Conv2D(64, (3, 3), activation=\"relu\", kernel_initializer=\"he_normal\", padding=\"same\")`\n",
            "/usr/local/lib/python3.6/dist-packages/ipykernel_launcher.py:34: UserWarning: Update your `Conv2D` call to the Keras 2 API: `Conv2D(64, (3, 3), activation=\"relu\", kernel_initializer=\"he_normal\", padding=\"same\")`\n",
            "/usr/local/lib/python3.6/dist-packages/ipykernel_launcher.py:36: UserWarning: Update your `Conv2D` call to the Keras 2 API: `Conv2D(64, (3, 3), activation=\"relu\", kernel_initializer=\"he_normal\", padding=\"same\")`\n",
            "/usr/local/lib/python3.6/dist-packages/ipykernel_launcher.py:39: UserWarning: Update your `Conv2D` call to the Keras 2 API: `Conv2D(64, (3, 3), activation=\"relu\", kernel_initializer=\"he_normal\", padding=\"same\")`\n",
            "/usr/local/lib/python3.6/dist-packages/ipykernel_launcher.py:41: UserWarning: Update your `Conv2D` call to the Keras 2 API: `Conv2D(64, (3, 3), activation=\"relu\", kernel_initializer=\"he_normal\", padding=\"same\")`\n",
            "/usr/local/lib/python3.6/dist-packages/ipykernel_launcher.py:44: UserWarning: Update your `Conv2D` call to the Keras 2 API: `Conv2D(32, (3, 3), activation=\"relu\", kernel_initializer=\"he_normal\", padding=\"same\")`\n",
            "/usr/local/lib/python3.6/dist-packages/ipykernel_launcher.py:46: UserWarning: Update your `Conv2D` call to the Keras 2 API: `Conv2D(32, (3, 3), activation=\"relu\", kernel_initializer=\"he_normal\", padding=\"same\")`\n",
            "/usr/local/lib/python3.6/dist-packages/ipykernel_launcher.py:52: UserWarning: Update your `Model` call to the Keras 2 API: `Model(outputs=Tensor(\"co..., inputs=Tensor(\"in...)`\n"
          ],
          "name": "stderr"
        },
        {
          "output_type": "stream",
          "text": [
            "Epoch 1/10\n",
            "6/6 [==============================] - 10s 2s/step - loss: 0.7406 - dice_coef: 0.1509 - mean_IOU_gpu: 0.0000e+00 - val_loss: 0.6932 - val_dice_coef: 1.0000 - val_mean_IOU_gpu: 0.0000e+00\n",
            "Epoch 2/10\n",
            "6/6 [==============================] - 2s 388ms/step - loss: 0.6932 - dice_coef: 0.7500 - mean_IOU_gpu: 0.0000e+00 - val_loss: 0.6932 - val_dice_coef: 1.0000 - val_mean_IOU_gpu: 0.0000e+00\n",
            "Epoch 3/10\n",
            "6/6 [==============================] - 2s 388ms/step - loss: 0.6932 - dice_coef: 0.9167 - mean_IOU_gpu: 0.0000e+00 - val_loss: 0.6932 - val_dice_coef: 1.0000 - val_mean_IOU_gpu: 0.0000e+00\n",
            "Epoch 4/10\n",
            "6/6 [==============================] - 2s 386ms/step - loss: 0.6932 - dice_coef: 0.7500 - mean_IOU_gpu: 0.0000e+00 - val_loss: 0.6932 - val_dice_coef: 1.0000 - val_mean_IOU_gpu: 0.0000e+00\n",
            "Epoch 5/10\n",
            "6/6 [==============================] - 2s 386ms/step - loss: 0.6932 - dice_coef: 1.0000 - mean_IOU_gpu: 0.0000e+00 - val_loss: 0.6932 - val_dice_coef: 1.0000 - val_mean_IOU_gpu: 0.0000e+00\n",
            "Epoch 6/10\n",
            "6/6 [==============================] - 2s 388ms/step - loss: 0.6932 - dice_coef: 0.8333 - mean_IOU_gpu: 0.0000e+00 - val_loss: 0.6932 - val_dice_coef: 1.0000 - val_mean_IOU_gpu: 0.0000e+00\n",
            "Epoch 7/10\n",
            "6/6 [==============================] - 2s 385ms/step - loss: 0.6932 - dice_coef: 1.0000 - mean_IOU_gpu: 0.0000e+00 - val_loss: 0.6932 - val_dice_coef: 1.0000 - val_mean_IOU_gpu: 0.0000e+00\n",
            "Epoch 8/10\n",
            "6/6 [==============================] - 2s 388ms/step - loss: 0.6932 - dice_coef: 1.0000 - mean_IOU_gpu: 0.0000e+00 - val_loss: 0.6932 - val_dice_coef: 1.0000 - val_mean_IOU_gpu: 0.0000e+00\n",
            "Epoch 9/10\n",
            "6/6 [==============================] - 2s 388ms/step - loss: 0.6932 - dice_coef: 0.8333 - mean_IOU_gpu: 0.0000e+00 - val_loss: 0.6932 - val_dice_coef: 0.8000 - val_mean_IOU_gpu: 0.0000e+00\n",
            "Epoch 10/10\n",
            "6/6 [==============================] - 2s 388ms/step - loss: 0.6932 - dice_coef: 0.9167 - mean_IOU_gpu: 0.0000e+00 - val_loss: 0.6932 - val_dice_coef: 1.0000 - val_mean_IOU_gpu: 0.0000e+00\n"
          ],
          "name": "stdout"
        },
        {
          "output_type": "execute_result",
          "data": {
            "text/plain": [
              "<keras.callbacks.History at 0x7f513e644a58>"
            ]
          },
          "metadata": {
            "tags": []
          },
          "execution_count": 24
        }
      ]
    },
    {
      "metadata": {
        "id": "0lGvAfQiaYN9",
        "colab_type": "text"
      },
      "cell_type": "markdown",
      "source": [
        ""
      ]
    },
    {
      "metadata": {
        "id": "9NwlTT38ZGwA",
        "colab_type": "code",
        "colab": {}
      },
      "cell_type": "code",
      "source": [
        ""
      ],
      "execution_count": 0,
      "outputs": []
    },
    {
      "metadata": {
        "id": "nXAJgKs9ZHgx",
        "colab_type": "code",
        "colab": {}
      },
      "cell_type": "code",
      "source": [
        ""
      ],
      "execution_count": 0,
      "outputs": []
    },
    {
      "metadata": {
        "id": "jWphZ7mZ1fV1",
        "colab_type": "code",
        "colab": {}
      },
      "cell_type": "code",
      "source": [
        "#t = np.zeros((2,512,512,1))\n"
      ],
      "execution_count": 0,
      "outputs": []
    },
    {
      "metadata": {
        "id": "xIwIK36daads",
        "colab_type": "code",
        "colab": {}
      },
      "cell_type": "code",
      "source": [
        "#t[0] = input_x(add1[55])"
      ],
      "execution_count": 0,
      "outputs": []
    },
    {
      "metadata": {
        "id": "0vjXvfRQdA1-",
        "colab_type": "code",
        "colab": {}
      },
      "cell_type": "code",
      "source": [
        "#t[1] = output_y(add1[25])"
      ],
      "execution_count": 0,
      "outputs": []
    },
    {
      "metadata": {
        "id": "Bnu-rIFyxIQd",
        "colab_type": "code",
        "colab": {}
      },
      "cell_type": "code",
      "source": [
        "#p = model.predict(t[0:2])"
      ],
      "execution_count": 0,
      "outputs": []
    },
    {
      "metadata": {
        "id": "rLmgDzpsdTCH",
        "colab_type": "code",
        "colab": {}
      },
      "cell_type": "code",
      "source": [
        "\"\"\"\n",
        "li = []\n",
        "std = []\n",
        "for i in add1:\n",
        "     li.append(np.mean(np.array(Image.open(i))))\n",
        "     std.append(np.std(np.array(Image.open(i))))\n",
        " \"\"\""
      ],
      "execution_count": 0,
      "outputs": []
    },
    {
      "metadata": {
        "id": "5kFkisAP7sNO",
        "colab_type": "code",
        "colab": {}
      },
      "cell_type": "code",
      "source": [
        "\"\"\"\n",
        "li1 = []\n",
        "for i in add2:\n",
        "     li1.append(np.mean(np.array(Image.open(i))))\n",
        "     \"\"\""
      ],
      "execution_count": 0,
      "outputs": []
    },
    {
      "metadata": {
        "id": "L3Y3YZzb3jfR",
        "colab_type": "code",
        "outputId": "b9068e3c-899b-4e1d-bf3c-b1d73b32b294",
        "colab": {
          "base_uri": "https://localhost:8080/",
          "height": 35
        }
      },
      "cell_type": "code",
      "source": [
        "#np.std(np.array(std))\n"
      ],
      "execution_count": 0,
      "outputs": [
        {
          "output_type": "execute_result",
          "data": {
            "text/plain": [
              "308.58847"
            ]
          },
          "metadata": {
            "tags": []
          },
          "execution_count": 159
        }
      ]
    },
    {
      "metadata": {
        "id": "n_LPaIZZ9mSg",
        "colab_type": "code",
        "colab": {}
      },
      "cell_type": "code",
      "source": [
        ""
      ],
      "execution_count": 0,
      "outputs": []
    },
    {
      "metadata": {
        "id": "srS918-pDCin",
        "colab_type": "code",
        "colab": {}
      },
      "cell_type": "code",
      "source": [
        "\"\"\"\n",
        "path = add1[14]\n",
        "k1 = os.path.split(path)[1]\n",
        "\"\"\""
      ],
      "execution_count": 0,
      "outputs": []
    },
    {
      "metadata": {
        "id": "jfPFMU7dEiGd",
        "colab_type": "code",
        "outputId": "8174fdac-572c-44d2-e39c-de8228136c46",
        "colab": {
          "base_uri": "https://localhost:8080/",
          "height": 35
        }
      },
      "cell_type": "code",
      "source": [
        ""
      ],
      "execution_count": 0,
      "outputs": [
        {
          "output_type": "execute_result",
          "data": {
            "text/plain": [
              "True"
            ]
          },
          "metadata": {
            "tags": []
          },
          "execution_count": 112
        }
      ]
    },
    {
      "metadata": {
        "id": "V5SRbWwT65yq",
        "colab_type": "code",
        "colab": {}
      },
      "cell_type": "code",
      "source": [
        "\"\"\"\n",
        "a  = Image.open(add1[0])\n",
        "a1 = np.array(a)\n",
        "\"\"\""
      ],
      "execution_count": 0,
      "outputs": []
    },
    {
      "metadata": {
        "id": "MnJShCIGAlpp",
        "colab_type": "code",
        "outputId": "de576b07-8239-4edc-e3ef-662743d41f24",
        "colab": {
          "base_uri": "https://localhost:8080/",
          "height": 145
        }
      },
      "cell_type": "code",
      "source": [
        "\"\"\"\n",
        "x_data[0] = a1\n",
        "x_data[0]\n",
        "\"\"\""
      ],
      "execution_count": 0,
      "outputs": [
        {
          "output_type": "execute_result",
          "data": {
            "text/plain": [
              "array([[-3024., -3024., -3024., ..., -3024., -3024., -3024.],\n",
              "       [-3024., -3024., -3024., ..., -3024., -3024., -3024.],\n",
              "       [-3024., -3024., -3024., ..., -3024., -3024., -3024.],\n",
              "       ...,\n",
              "       [-3024., -3024., -3024., ..., -3024., -3024., -3024.],\n",
              "       [-3024., -3024., -3024., ..., -3024., -3024., -3024.],\n",
              "       [-3024., -3024., -3024., ..., -3024., -3024., -3024.]])"
            ]
          },
          "metadata": {
            "tags": []
          },
          "execution_count": 33
        }
      ]
    },
    {
      "metadata": {
        "id": "KCQgYyM8b3be",
        "colab_type": "code",
        "colab": {}
      },
      "cell_type": "code",
      "source": [
        ""
      ],
      "execution_count": 0,
      "outputs": []
    },
    {
      "metadata": {
        "id": "y1gbARi2cueX",
        "colab_type": "code",
        "colab": {}
      },
      "cell_type": "code",
      "source": [
        ""
      ],
      "execution_count": 0,
      "outputs": []
    },
    {
      "metadata": {
        "id": "Mr_dUCwuc2E6",
        "colab_type": "code",
        "colab": {}
      },
      "cell_type": "code",
      "source": [
        ""
      ],
      "execution_count": 0,
      "outputs": []
    },
    {
      "metadata": {
        "id": "1y90745QdN-0",
        "colab_type": "code",
        "outputId": "b6f0e3ef-3bdf-4351-83af-6d6a54acbd17",
        "colab": {
          "base_uri": "https://localhost:8080/",
          "height": 199
        }
      },
      "cell_type": "code",
      "source": [
        "#os.listdir()"
      ],
      "execution_count": 0,
      "outputs": [
        {
          "output_type": "execute_result",
          "data": {
            "text/plain": [
              "['subset6mask',\n",
              " 'subset9mask',\n",
              " 'subset5mask',\n",
              " 'subset2mask',\n",
              " 'subset8mask',\n",
              " 'subset4mask',\n",
              " 'subset3mask',\n",
              " 'subset7mask',\n",
              " 'subset1mask',\n",
              " 'subset0mask']"
            ]
          },
          "metadata": {
            "tags": []
          },
          "execution_count": 24
        }
      ]
    },
    {
      "metadata": {
        "id": "MYBA9BbedVBK",
        "colab_type": "code",
        "colab": {}
      },
      "cell_type": "code",
      "source": [
        "#os.chdir('subset0mask')"
      ],
      "execution_count": 0,
      "outputs": []
    },
    {
      "metadata": {
        "id": "J6FVFHxUeArv",
        "colab_type": "code",
        "outputId": "7e5cc74f-521a-4ecb-804e-61cbf606aeaf",
        "colab": {
          "base_uri": "https://localhost:8080/",
          "height": 35
        }
      },
      "cell_type": "code",
      "source": [
        "#os.listdir()"
      ],
      "execution_count": 0,
      "outputs": [
        {
          "output_type": "execute_result",
          "data": {
            "text/plain": [
              "['1.3.6.1.4.1.14519.5.2.1.6279.6001.105756658031515062000744821260']"
            ]
          },
          "metadata": {
            "tags": []
          },
          "execution_count": 27
        }
      ]
    },
    {
      "metadata": {
        "id": "QzNYZw2geGFW",
        "colab_type": "code",
        "colab": {}
      },
      "cell_type": "code",
      "source": [
        "#os.chdir('1.3.6.1.4.1.14519.5.2.1.6279.6001.105756658031515062000744821260')"
      ],
      "execution_count": 0,
      "outputs": []
    },
    {
      "metadata": {
        "id": "ojvOMziUewv-",
        "colab_type": "code",
        "outputId": "2fdbe8b6-8dc2-4da7-9efd-b77ee83a4cc9",
        "colab": {
          "base_uri": "https://localhost:8080/",
          "height": 35
        }
      },
      "cell_type": "code",
      "source": [
        "#os.getcwd()"
      ],
      "execution_count": 0,
      "outputs": [
        {
          "output_type": "execute_result",
          "data": {
            "text/plain": [
              "'/content/sample_dataset_for_testing/fullsampledata/subset0mask/1.3.6.1.4.1.14519.5.2.1.6279.6001.105756658031515062000744821260'"
            ]
          },
          "metadata": {
            "tags": []
          },
          "execution_count": 34
        }
      ]
    },
    {
      "metadata": {
        "id": "jhxAMmk1feL-",
        "colab_type": "code",
        "colab": {}
      },
      "cell_type": "code",
      "source": [
        ""
      ],
      "execution_count": 0,
      "outputs": []
    },
    {
      "metadata": {
        "id": "maeIFAbzezC4",
        "colab_type": "code",
        "colab": {}
      },
      "cell_type": "code",
      "source": [
        "#a  = Image.open(os.getcwd()+'/151.tiff')"
      ],
      "execution_count": 0,
      "outputs": []
    },
    {
      "metadata": {
        "id": "lS3dFSmCfwzm",
        "colab_type": "code",
        "colab": {}
      },
      "cell_type": "code",
      "source": [
        "#a1 = np.array(a)"
      ],
      "execution_count": 0,
      "outputs": []
    },
    {
      "metadata": {
        "id": "PZZkC3vsgEhz",
        "colab_type": "code",
        "colab": {}
      },
      "cell_type": "code",
      "source": [
        "#from matplotlib import pyplot as plt"
      ],
      "execution_count": 0,
      "outputs": []
    },
    {
      "metadata": {
        "id": "xsSSAYm8gFPp",
        "colab_type": "code",
        "outputId": "e90980ce-cbe1-40b1-c353-13c3e6b6c380",
        "colab": {
          "base_uri": "https://localhost:8080/",
          "height": 369
        }
      },
      "cell_type": "code",
      "source": [
        "#plt.imshow(a1)"
      ],
      "execution_count": 0,
      "outputs": [
        {
          "output_type": "execute_result",
          "data": {
            "text/plain": [
              "<matplotlib.image.AxesImage at 0x7f6ada666518>"
            ]
          },
          "metadata": {
            "tags": []
          },
          "execution_count": 76
        },
        {
          "output_type": "display_data",
          "data": {
            "image/png": "[encoded data removed]",
            "text/plain": [
              "<matplotlib.figure.Figure at 0x7f6adbe91e80>"
            ]
          },
          "metadata": {
            "tags": []
          }
        }
      ]
    },
    {
      "metadata": {
        "id": "wbHvyBixgmYX",
        "colab_type": "code",
        "colab": {}
      },
      "cell_type": "code",
      "source": [
        "#import glob"
      ],
      "execution_count": 0,
      "outputs": []
    },
    {
      "metadata": {
        "id": "FVVx13LWg8I2",
        "colab_type": "code",
        "colab": {}
      },
      "cell_type": "code",
      "source": [
        "#addd = glob.glob('/content/sample_dataset_for_testing/fullsampledata/subset7mask/*/[0-9]*_mask.tiff')"
      ],
      "execution_count": 0,
      "outputs": []
    },
    {
      "metadata": {
        "id": "Tx7o81PmhY1Y",
        "colab_type": "code",
        "outputId": "9a48197a-66d0-469a-d5cb-a1c830696739",
        "colab": {
          "base_uri": "https://localhost:8080/",
          "height": 165
        }
      },
      "cell_type": "code",
      "source": [
        "#addd.sort()\n",
        "#addd"
      ],
      "execution_count": 0,
      "outputs": [
        {
          "output_type": "execute_result",
          "data": {
            "text/plain": [
              "['/content/sample_dataset_for_testing/fullsampledata/subset7mask/1.3.6.1.4.1.14519.5.2.1.6279.6001.126264578931778258890371755354/259_mask.tiff',\n",
              " '/content/sample_dataset_for_testing/fullsampledata/subset7mask/1.3.6.1.4.1.14519.5.2.1.6279.6001.126264578931778258890371755354/260_mask.tiff',\n",
              " '/content/sample_dataset_for_testing/fullsampledata/subset7mask/1.3.6.1.4.1.14519.5.2.1.6279.6001.126264578931778258890371755354/261_mask.tiff',\n",
              " '/content/sample_dataset_for_testing/fullsampledata/subset7mask/1.3.6.1.4.1.14519.5.2.1.6279.6001.126264578931778258890371755354/262_mask.tiff',\n",
              " '/content/sample_dataset_for_testing/fullsampledata/subset7mask/1.3.6.1.4.1.14519.5.2.1.6279.6001.126264578931778258890371755354/263_mask.tiff',\n",
              " '/content/sample_dataset_for_testing/fullsampledata/subset7mask/1.3.6.1.4.1.14519.5.2.1.6279.6001.126264578931778258890371755354/264_mask.tiff',\n",
              " '/content/sample_dataset_for_testing/fullsampledata/subset7mask/1.3.6.1.4.1.14519.5.2.1.6279.6001.126264578931778258890371755354/265_mask.tiff']"
            ]
          },
          "metadata": {
            "tags": []
          },
          "execution_count": 57
        }
      ]
    },
    {
      "metadata": {
        "id": "izoUyJHchZ4s",
        "colab_type": "code",
        "colab": {}
      },
      "cell_type": "code",
      "source": [
        "#x1 = Image.open(add[0])"
      ],
      "execution_count": 0,
      "outputs": []
    },
    {
      "metadata": {
        "id": "lwSdDi0fwYCZ",
        "colab_type": "code",
        "outputId": "82b09709-eba2-4e1a-b4b4-d57d739715c1",
        "colab": {
          "base_uri": "https://localhost:8080/",
          "height": 369
        }
      },
      "cell_type": "code",
      "source": [
        "#plt.imshow(np.array(x1))"
      ],
      "execution_count": 0,
      "outputs": [
        {
          "output_type": "execute_result",
          "data": {
            "text/plain": [
              "<matplotlib.image.AxesImage at 0x7f6ada5cebe0>"
            ]
          },
          "metadata": {
            "tags": []
          },
          "execution_count": 79
        },
        {
          "output_type": "display_data",
          "data": {
            "image/png": "[encoded data removed]",
            "text/plain": [
              "<matplotlib.figure.Figure at 0x7f6ade744390>"
            ]
          },
          "metadata": {
            "tags": []
          }
        }
      ]
    },
    {
      "metadata": {
        "id": "yjEqp9ncwdjm",
        "colab_type": "code",
        "colab": {}
      },
      "cell_type": "code",
      "source": [
        "#y = np.array(x1)"
      ],
      "execution_count": 0,
      "outputs": []
    },
    {
      "metadata": {
        "id": "f1bpe_Udwk9U",
        "colab_type": "code",
        "outputId": "c2488121-ff47-4562-fcd9-ab3fbdce1e67",
        "colab": {
          "base_uri": "https://localhost:8080/",
          "height": 35
        }
      },
      "cell_type": "code",
      "source": [
        "#y.std()"
      ],
      "execution_count": 0,
      "outputs": [
        {
          "output_type": "execute_result",
          "data": {
            "text/plain": [
              "4.6977677"
            ]
          },
          "metadata": {
            "tags": []
          },
          "execution_count": 95
        }
      ]
    },
    {
      "metadata": {
        "id": "8UO03dxgwliA",
        "colab_type": "code",
        "outputId": "28286f08-b6b7-4455-cff3-613ecdd70ef4",
        "colab": {
          "base_uri": "https://localhost:8080/",
          "height": 35
        }
      },
      "cell_type": "code",
      "source": [
        "#len(glob.glob('/content/sample_dataset_for_testing/fullsampledata/*/*/*[0-9].tiff'))"
      ],
      "execution_count": 0,
      "outputs": [
        {
          "output_type": "execute_result",
          "data": {
            "text/plain": [
              "3136"
            ]
          },
          "metadata": {
            "tags": []
          },
          "execution_count": 90
        }
      ]
    },
    {
      "metadata": {
        "id": "mSUds1bALo6s",
        "colab_type": "code",
        "outputId": "aa8eb978-aff4-4704-f6ad-aef31bec89b0",
        "colab": {
          "base_uri": "https://localhost:8080/",
          "height": 35
        }
      },
      "cell_type": "code",
      "source": [
        "#3136+62"
      ],
      "execution_count": 0,
      "outputs": [
        {
          "output_type": "execute_result",
          "data": {
            "text/plain": [
              "3198"
            ]
          },
          "metadata": {
            "tags": []
          },
          "execution_count": 91
        }
      ]
    },
    {
      "metadata": {
        "id": "1dXefDoSIWG2",
        "colab_type": "code",
        "colab": {}
      },
      "cell_type": "code",
      "source": [
        "#x1 = np.zeros((512,512,1))"
      ],
      "execution_count": 0,
      "outputs": []
    },
    {
      "metadata": {
        "id": "XDfyjUzqH9pm",
        "colab_type": "code",
        "colab": {}
      },
      "cell_type": "code",
      "source": [
        "#x1[:,:,0] = np.array(Image.open(add2[1]))"
      ],
      "execution_count": 0,
      "outputs": []
    },
    {
      "metadata": {
        "id": "0ymjOC2iL352",
        "colab_type": "code",
        "outputId": "1be30f04-361e-4cab-ea5f-1229aa644e82",
        "colab": {
          "base_uri": "https://localhost:8080/",
          "height": 35
        }
      },
      "cell_type": "code",
      "source": [
        "#x1 = output_y(add1[25])\n",
        "#x1.max()"
      ],
      "execution_count": 0,
      "outputs": [
        {
          "output_type": "execute_result",
          "data": {
            "text/plain": [
              "1.0"
            ]
          },
          "metadata": {
            "tags": []
          },
          "execution_count": 49
        }
      ]
    },
    {
      "metadata": {
        "id": "6Yy-1nOvHvNT",
        "colab_type": "code",
        "outputId": "ef37c29e-3163-469f-e967-81e4f98cf71b",
        "colab": {
          "base_uri": "https://localhost:8080/",
          "height": 90
        }
      },
      "cell_type": "code",
      "source": [
        "#x1 *= 1./(np.max(x1))"
      ],
      "execution_count": 0,
      "outputs": [
        {
          "output_type": "stream",
          "text": [
            "/usr/local/lib/python3.6/dist-packages/ipykernel_launcher.py:1: RuntimeWarning: divide by zero encountered in double_scalars\n",
            "  \"\"\"Entry point for launching an IPython kernel.\n",
            "/usr/local/lib/python3.6/dist-packages/ipykernel_launcher.py:1: RuntimeWarning: invalid value encountered in multiply\n",
            "  \"\"\"Entry point for launching an IPython kernel.\n"
          ],
          "name": "stderr"
        }
      ]
    },
    {
      "metadata": {
        "id": "rQSmsWdeHxR3",
        "colab_type": "code",
        "outputId": "911c9d11-cf6d-40a8-9091-08999534d450",
        "colab": {
          "base_uri": "https://localhost:8080/",
          "height": 35
        }
      },
      "cell_type": "code",
      "source": [
        "#np.unique(x1)"
      ],
      "execution_count": 0,
      "outputs": [
        {
          "output_type": "execute_result",
          "data": {
            "text/plain": [
              "array([0., 1.])"
            ]
          },
          "metadata": {
            "tags": []
          },
          "execution_count": 43
        }
      ]
    },
    {
      "metadata": {
        "id": "8ZqvZW8FI6vK",
        "colab_type": "code",
        "outputId": "217aeabe-558a-4f98-911b-61471f4044db",
        "colab": {
          "base_uri": "https://localhost:8080/",
          "height": 35
        }
      },
      "cell_type": "code",
      "source": [
        "#round(0.6)"
      ],
      "execution_count": 0,
      "outputs": [
        {
          "output_type": "execute_result",
          "data": {
            "text/plain": [
              "1"
            ]
          },
          "metadata": {
            "tags": []
          },
          "execution_count": 100
        }
      ]
    },
    {
      "metadata": {
        "id": "paJEP-Stm-bF",
        "colab_type": "text"
      },
      "cell_type": "markdown",
      "source": [
        ""
      ]
    }
  ]
}